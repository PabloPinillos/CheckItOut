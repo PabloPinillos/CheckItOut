{
  "metadata": {
    "kernelspec": {
      "name": "python",
      "display_name": "Python (Pyodide)",
      "language": "python"
    },
    "language_info": {
      "codemirror_mode": {
        "name": "python",
        "version": 3
      },
      "file_extension": ".py",
      "mimetype": "text/x-python",
      "name": "python",
      "nbconvert_exporter": "python",
      "pygments_lexer": "ipython3",
      "version": "3.8"
    }
  },
  "nbformat_minor": 4,
  "nbformat": 4,
  "cells": [
    {
      "cell_type": "markdown",
      "source": "# Buying vs Renting comparison\n## Libraries\nThese are the Python libraries used in the project",
      "metadata": {}
    },
    {
      "cell_type": "code",
      "source": "import matplotlib.pyplot as plt\nfrom matplotlib.ticker import FuncFormatter",
      "metadata": {
        "trusted": true
      },
      "outputs": [],
      "execution_count": null
    },
    {
      "cell_type": "markdown",
      "source": "## Assumptions and variables\nThese are the numbers you need to change according to your specific needs",
      "metadata": {}
    },
    {
      "cell_type": "code",
      "source": "# Assumptions\nhome_price = 400_000\nrent_per_month = 2495\ndown_payment_pct = 5 / 100\nfixed_buying_costs_percent = 2 / 100\nmortgage_rate = 7 / 100 / 12\nmortgage_years = 30\nincome = 80_000\nannual_salary_increase = 3 / 100\nsp500_return = 8 / 100\nhome_appreciation = 1 / 100  # Home appreciation rate adjusted for inflation\nliving_expenses_percent = 30 / 100\nproperty_tax_percent = 1 / 100\ninsurance_cost = 1500  # Annual home insurance\ncommunity_fee = 1000  # Annual community fee\nmaintenance_cost_percent = 1 / 100\ninflation_rent = 3 / 100",
      "metadata": {
        "trusted": true
      },
      "outputs": [],
      "execution_count": null
    },
    {
      "cell_type": "code",
      "source": "## Calculations\nFrom here on, ",
      "metadata": {
        "trusted": true
      },
      "outputs": [],
      "execution_count": null
    },
    {
      "cell_type": "code",
      "source": "# Derived values\ndown_payment = home_price * down_payment_pct\nmonthly_income = income / 12\nmortgage_months = mortgage_years * 12\nloan_amount = home_price - down_payment\nmonthly_mortgage_payment = loan_amount * (mortgage_rate * (1 + mortgage_rate)**mortgage_months) / ((1 + mortgage_rate)**mortgage_months - 1)\n\n# Initial costs for buying\nfixed_buying_costs = home_price * fixed_buying_costs_percent\nupfront_costs_buying = down_payment + fixed_buying_costs\ninitial_net_worth_buying = down_payment - fixed_buying_costs  # Initial equity minus fixed costs\ninitial_net_worth_renting = upfront_costs_buying  # Initial investment for renting\n\n# Initialize variables for simulation\nyears = 30\nmonths = years * 12\nnet_worth_buying = [initial_net_worth_buying]\nnet_worth_renting = [initial_net_worth_renting]\nsavings_buying = 0\nsavings_renting = upfront_costs_buying  # Start with the same upfront costs invested in SP500\nhome_equity = down_payment_pct * home_price  # Initial equity in the house\n\n# Simulation loop\nfor year in range(1, years + 1):\n    annual_income = income * ((1 + annual_salary_increase)**(year - 1))\n    annual_living_expenses = annual_income * living_expenses_percent\n\n    # BUYING CALCULATIONS\n    annual_mortgage_payment = monthly_mortgage_payment * 12\n    property_tax = home_price * property_tax_percent\n    maintenance_cost = home_price * maintenance_cost_percent\n    total_home_costs = annual_mortgage_payment + property_tax + insurance_cost + maintenance_cost + community_fee\n\n    # Equity in the home (principal paid)\n    principal_paid = min(loan_amount, annual_mortgage_payment - (loan_amount * mortgage_rate * 12))\n    loan_amount -= principal_paid\n    home_equity += principal_paid\n    home_price *= (1 + home_appreciation)  # Home appreciates in value\n\n    # Savings left to invest\n    investable_buying = annual_income - annual_living_expenses - total_home_costs\n    savings_buying += max(investable_buying, 0)\n    savings_buying *= (1 + sp500_return)\n\n    # Total net worth for buying\n    net_worth_buying.append(savings_buying + (home_equity * (1 + home_appreciation) ** year))\n\n    # RENTING CALCULATIONS\n    annual_rent = rent_per_month * (1 + inflation_rent)**(year - 1) * 12\n    investable_renting = annual_income - annual_living_expenses - annual_rent\n    savings_renting += max(investable_renting, 0)\n    savings_renting *= (1 + sp500_return)\n\n    # Total net worth for renting\n    net_worth_renting.append(savings_renting)\n\n# Final Results\nprint(f\"Final net worth after {years} years:\")\nprint(f\"Buying: ${net_worth_buying[-1]:,.2f}\")\nprint(f\"Renting: ${net_worth_renting[-1]:,.2f}\")\n\n# Function to format the y-axis in millions\ndef millions_formatter(x, pos):\n    return f'${x / 1_000_000:.1f}M'\n\n# Plot the results\nplt.figure(figsize=(12, 6))\nplt.plot(range(years + 1), net_worth_buying, label=\"Buying\", color=\"blue\")\nplt.plot(range(years + 1), net_worth_renting, label=\"Renting\", color=\"orange\")\nplt.title(\"Net Worth Evolution: Buying vs Renting\")\nplt.xlabel(\"Years\")\nplt.ylabel(\"Net Worth ($)\")\nplt.gca().yaxis.set_major_formatter(FuncFormatter(millions_formatter))\nplt.legend()\nplt.grid()\nplt.show()",
      "metadata": {
        "trusted": true
      },
      "outputs": [],
      "execution_count": null
    }
  ]
}